{
  "nbformat": 4,
  "nbformat_minor": 0,
  "metadata": {
    "colab": {
      "provenance": [],
      "authorship_tag": "ABX9TyPaNyPIEgSwE/TiZfHqE0J6",
      "include_colab_link": true
    },
    "kernelspec": {
      "name": "python3",
      "display_name": "Python 3"
    },
    "language_info": {
      "name": "python"
    }
  },
  "cells": [
    {
      "cell_type": "markdown",
      "metadata": {
        "id": "view-in-github",
        "colab_type": "text"
      },
      "source": [
        "<a href=\"https://colab.research.google.com/github/surafelmeharihaile-ai/Data110/blob/main/Data_110_Week_4_bar_graph%2CSurafelHaile.ipynb\" target=\"_parent\"><img src=\"https://colab.research.google.com/assets/colab-badge.svg\" alt=\"Open In Colab\"/></a>"
      ]
    },
    {
      "cell_type": "code",
      "execution_count": null,
      "metadata": {
        "id": "hmBTMQQHrVLJ"
      },
      "outputs": [],
      "source": [
        "from maltiplotlib import pyplot as plt\n",
        "import numpy as np\n",
        "import panda as pd\n"
      ]
    },
    {
      "cell_type": "markdown",
      "source": [
        "Task 1:"
      ],
      "metadata": {
        "id": "SCgq1cyq868L"
      }
    },
    {
      "cell_type": "code",
      "source": [],
      "metadata": {
        "id": "JCok8WF5-8ma"
      },
      "execution_count": null,
      "outputs": []
    }
  ]
}